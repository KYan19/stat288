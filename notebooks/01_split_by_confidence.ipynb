{
 "cells": [
  {
   "cell_type": "code",
   "execution_count": 1,
   "id": "55870572-ef5a-4280-b00d-8594c07cb951",
   "metadata": {},
   "outputs": [],
   "source": [
    "import os\n",
    "from pathlib import Path\n",
    "import pickle\n",
    "import geopandas as gpd\n",
    "import pandas as pd\n",
    "import numpy as np\n",
    "from sklearn.model_selection import train_test_split"
   ]
  },
  {
   "cell_type": "markdown",
   "id": "33d93c99-5c27-454d-98f7-13c8452667b7",
   "metadata": {},
   "source": [
    "# Isolating samples with high confidence"
   ]
  },
  {
   "cell_type": "code",
   "execution_count": 2,
   "id": "fa9a1ec5-342f-4815-a0ab-1a081f7c9819",
   "metadata": {},
   "outputs": [],
   "source": [
    "path=\"../data/filtered_labels.geojson\"\n",
    "data_path=\"/n/holyscratch01/tambe_lab/kayan/karena/images/\""
   ]
  },
  {
   "cell_type": "code",
   "execution_count": 3,
   "id": "3718a685-e74a-435b-996a-fdc58b326fc3",
   "metadata": {},
   "outputs": [],
   "source": [
    "label_df = gpd.read_file(path)\n",
    "# take out any files that are not present in the image directory\n",
    "dir_ids = [Path(file_name).stem for file_name in os.listdir(data_path)]\n",
    "label_df = label_df[label_df[\"unique_id\"].isin(dir_ids)]"
   ]
  },
  {
   "cell_type": "code",
   "execution_count": 4,
   "id": "729b24ae-4cc0-47fc-acc0-d75cc50b1705",
   "metadata": {},
   "outputs": [],
   "source": [
    "confidence_threshold = 5"
   ]
  },
  {
   "cell_type": "code",
   "execution_count": 16,
   "id": "40236154-6710-4ddb-b484-a51a7f50480d",
   "metadata": {},
   "outputs": [],
   "source": [
    "# restrict to only use samples meeting confidence threshold\n",
    "confident_label_df = label_df[label_df[\"confidence\"] >= confidence_threshold]\n",
    "unconfident_label_df = label_df[label_df[\"confidence\"] < confidence_threshold]"
   ]
  },
  {
   "cell_type": "code",
   "execution_count": 6,
   "id": "2f64e127-8d2d-4a3d-a56a-aec768405347",
   "metadata": {},
   "outputs": [
    {
     "data": {
      "text/plain": [
       "14641"
      ]
     },
     "execution_count": 6,
     "metadata": {},
     "output_type": "execute_result"
    }
   ],
   "source": [
    "# number of samples total\n",
    "len(label_df)"
   ]
  },
  {
   "cell_type": "code",
   "execution_count": 7,
   "id": "4b3ea275-2ffb-4391-91d1-b9f68d9ab2b0",
   "metadata": {},
   "outputs": [
    {
     "data": {
      "text/plain": [
       "7587"
      ]
     },
     "execution_count": 7,
     "metadata": {},
     "output_type": "execute_result"
    }
   ],
   "source": [
    "# number of high-confidence samples\n",
    "len(confident_label_df)"
   ]
  },
  {
   "cell_type": "markdown",
   "id": "36cab289-56c9-43f3-8e0d-a59eb684f91b",
   "metadata": {},
   "source": [
    "# Maintaining mine proportion in confident data"
   ]
  },
  {
   "cell_type": "code",
   "execution_count": 11,
   "id": "3dd06805-885a-4981-b9f1-555545283fb1",
   "metadata": {},
   "outputs": [
    {
     "data": {
      "text/plain": [
       "0.24567993989481593"
      ]
     },
     "execution_count": 11,
     "metadata": {},
     "output_type": "execute_result"
    }
   ],
   "source": [
    "# proportion of samples with mines in whole dataset\n",
    "len(label_df[label_df[\"label\"] == 1])/len(label_df)"
   ]
  },
  {
   "cell_type": "code",
   "execution_count": 17,
   "id": "f53f05b7-c52c-4f01-901a-1fe4b08e2dbf",
   "metadata": {},
   "outputs": [],
   "source": [
    "# separate confident data into mine and no mine\n",
    "confident_mine_df = confident_label_df[confident_label_df[\"label\"] == 1]\n",
    "confident_nomine_df = confident_label_df[confident_label_df[\"label\"] == 0]"
   ]
  },
  {
   "cell_type": "code",
   "execution_count": 18,
   "id": "a1be4529-8c57-4a23-949f-6a106d5a9669",
   "metadata": {},
   "outputs": [
    {
     "data": {
      "text/plain": [
       "0.08751812310531172"
      ]
     },
     "execution_count": 18,
     "metadata": {},
     "output_type": "execute_result"
    }
   ],
   "source": [
    "# proportion of samples with mines in confident dataset\n",
    "len(confident_mine_df)/len(confident_label_df)"
   ]
  },
  {
   "cell_type": "code",
   "execution_count": 19,
   "id": "ab939018-7fe2-4181-b69c-ab2313cc77af",
   "metadata": {},
   "outputs": [],
   "source": [
    "# subsample no-mine data to maintain balance between mine and no-mine samples\n",
    "num_mines_confident = len(confident_mine_df)\n",
    "scale_factor = len(label_df[label_df[\"label\"] == 0])/len(label_df[label_df[\"label\"] == 1])\n",
    "confident_nomine_df = confident_nomine_df.sample(int(num_mines_confident*scale_factor))\n",
    "\n",
    "confident_label_df = pd.concat([confident_mine_df, confident_nomine_df])"
   ]
  },
  {
   "cell_type": "code",
   "execution_count": 20,
   "id": "fb8499e3-cd1c-4dcc-96c7-9348e6da3a33",
   "metadata": {},
   "outputs": [
    {
     "data": {
      "text/plain": [
       "2702"
      ]
     },
     "execution_count": 20,
     "metadata": {},
     "output_type": "execute_result"
    }
   ],
   "source": [
    "len(confident_label_df)"
   ]
  },
  {
   "cell_type": "code",
   "execution_count": 21,
   "id": "7be88aa4-936a-442c-a357-6fd3c98e3a8a",
   "metadata": {},
   "outputs": [
    {
     "data": {
      "text/plain": [
       "0.2457438934122872"
      ]
     },
     "execution_count": 21,
     "metadata": {},
     "output_type": "execute_result"
    }
   ],
   "source": [
    "# verify that proportion of samples with mines in balanced confident dataset matches original\n",
    "len(confident_label_df[confident_label_df[\"label\"] == 1])/len(confident_label_df)"
   ]
  },
  {
   "cell_type": "markdown",
   "id": "aae54074-18ca-4b0b-84b8-000f0d435f50",
   "metadata": {},
   "source": [
    "# Maintain mine proportion in unconfident data"
   ]
  },
  {
   "cell_type": "code",
   "execution_count": 22,
   "id": "c00a4512-4df3-4276-a0c2-c95918c9ca67",
   "metadata": {},
   "outputs": [],
   "source": [
    "# retain original proportion of mines in unconfident dataset\n",
    "unconfident_mine_df = unconfident_label_df[unconfident_label_df[\"label\"] == 1]\n",
    "unconfident_nomine_df = unconfident_label_df[unconfident_label_df[\"label\"] == 0]\n",
    "\n",
    "num_nomines_unconfident = len(unconfident_nomine_df)\n",
    "scale_factor = len(label_df[label_df[\"label\"] == 1])/len(label_df[label_df[\"label\"] == 0])\n",
    "unconfident_mine_df = unconfident_mine_df.sample(int(num_nomines_unconfident*scale_factor))\n",
    "\n",
    "unconfident_label_df = pd.concat([unconfident_mine_df, unconfident_nomine_df])"
   ]
  },
  {
   "cell_type": "code",
   "execution_count": 23,
   "id": "621c25c3-f8c9-43fb-bf41-55b71f8b71c9",
   "metadata": {},
   "outputs": [
    {
     "data": {
      "text/plain": [
       "0.24565257184697054"
      ]
     },
     "execution_count": 23,
     "metadata": {},
     "output_type": "execute_result"
    }
   ],
   "source": [
    "# verify that proportion of samples with mines in balanced unconfident dataset matches original\n",
    "len(unconfident_label_df[unconfident_label_df[\"label\"] == 1])/len(unconfident_label_df)"
   ]
  },
  {
   "cell_type": "markdown",
   "id": "78f9618b-abc1-4f36-b144-68cc8bfe688a",
   "metadata": {},
   "source": [
    "# Assign train/test/val split"
   ]
  },
  {
   "cell_type": "code",
   "execution_count": 26,
   "id": "cd56310d-82cc-47fb-9f9a-35629b91e606",
   "metadata": {},
   "outputs": [],
   "source": [
    "# split confident dataset into train/val/test\n",
    "stratify_col = \"country\"\n",
    "random_state = 42\n",
    "\n",
    "train_confident, test_confident = train_test_split(confident_label_df, \n",
    "        stratify=confident_label_df[stratify_col] if stratify_col is not None else None,\n",
    "        test_size=0.2,\n",
    "        random_state=random_state\n",
    "    )\n",
    "train_confident, val_confident = train_test_split(train_confident, \n",
    "            stratify=train_confident[stratify_col] if stratify_col is not None else None,\n",
    "            test_size=0.2,\n",
    "            random_state=random_state\n",
    "        )\n",
    "\n",
    "# subsample unconfident labels to maintain train-val-test split sizes\n",
    "scale_factor = len(label_df[label_df[\"confidence\"] < confidence_threshold])/len(label_df[label_df[\"confidence\"] >= confidence_threshold])\n",
    "unconfident_label_df = unconfident_label_df.sample(int((len(test_confident)+len(val_confident))*scale_factor))\n",
    "# split unconfident dataset into train/val/test\n",
    "val_unconfident, test_unconfident = train_test_split(unconfident_label_df, \n",
    "            stratify=unconfident_label_df[stratify_col] if stratify_col is not None else None,\n",
    "            test_size=5/9,\n",
    "            random_state=random_state\n",
    "        )\n",
    "\n",
    "train = train_confident\n",
    "val = pd.concat([val_confident, val_unconfident])\n",
    "test = pd.concat([test_confident, test_unconfident])"
   ]
  },
  {
   "cell_type": "code",
   "execution_count": 27,
   "id": "782ec7d3-ea4c-474b-9aaf-528973074a4a",
   "metadata": {},
   "outputs": [
    {
     "data": {
      "text/plain": [
       "(1728, 835, 1044)"
      ]
     },
     "execution_count": 27,
     "metadata": {},
     "output_type": "execute_result"
    }
   ],
   "source": [
    "len(train), len(val), len(test)"
   ]
  },
  {
   "cell_type": "code",
   "execution_count": null,
   "id": "d9804aea-32ee-49f0-bf39-4a88d44493cb",
   "metadata": {},
   "outputs": [],
   "source": [
    "split_ids = {\"train\": train, \"val\": val, \"test\":test}\n",
    "# save as pickle file\n",
    "out_path = \"../data/split_confidence5_balanced\"\n",
    "with open(out_path, 'wb') as handle:\n",
    "    pickle.dump(split_ids, handle, protocol=pickle.HIGHEST_PROTOCOL)"
   ]
  },
  {
   "cell_type": "markdown",
   "id": "0981ddba-b117-452c-8bca-5b30718e635a",
   "metadata": {},
   "source": [
    "# Add some unconfident samples back into training data"
   ]
  },
  {
   "cell_type": "code",
   "execution_count": 6,
   "id": "4a58cd4f-ae8a-46a0-a31f-e16ebd5f61b2",
   "metadata": {},
   "outputs": [],
   "source": [
    "# get unique identifiers of desired split\n",
    "split_path = \"../data/split_confidence5_balanced\"\n",
    "with open(split_path,'rb') as handle:\n",
    "    split_data = pickle.load(handle)"
   ]
  },
  {
   "cell_type": "code",
   "execution_count": 15,
   "id": "90256a2f-da88-4804-9103-a81af8c55c56",
   "metadata": {},
   "outputs": [],
   "source": [
    "val_test_ids = np.concatenate([split_data[\"val\"], split_data[\"test\"]])"
   ]
  },
  {
   "cell_type": "code",
   "execution_count": 20,
   "id": "2399d502-6c3a-4f68-9b66-f9fbc85b6e60",
   "metadata": {},
   "outputs": [
    {
     "data": {
      "text/plain": [
       "6149"
      ]
     },
     "execution_count": 20,
     "metadata": {},
     "output_type": "execute_result"
    }
   ],
   "source": [
    "# get IDs for unconfident samples that have not already been used in train set\n",
    "unused_unconfident_labels=unconfident_label_df[~unconfident_label_df.unique_id.isin(val_test_ids)]\n",
    "len(unused_unconfident_labels)"
   ]
  },
  {
   "cell_type": "code",
   "execution_count": 22,
   "id": "6bf7f196-23a6-4860-acd6-795f53b31d22",
   "metadata": {},
   "outputs": [
    {
     "name": "stdout",
     "output_type": "stream",
     "text": [
      "1728\n"
     ]
    }
   ],
   "source": [
    "# current size of train set\n",
    "train_size = len(split_data[\"train\"])\n",
    "print(train_size)"
   ]
  },
  {
   "cell_type": "code",
   "execution_count": 26,
   "id": "c3a5416b-3917-4307-aa9d-fc3611f4f16d",
   "metadata": {},
   "outputs": [],
   "source": [
    "# double the size of training data by adding in unconfident data samples\n",
    "additional_samples = unused_unconfident_labels.sample(train_size)\n",
    "additional_sample_ids = additional_samples[\"unique_id\"].values"
   ]
  },
  {
   "cell_type": "code",
   "execution_count": 31,
   "id": "059b7d35-e6a9-4e6d-872d-1046abbd0d1d",
   "metadata": {},
   "outputs": [],
   "source": [
    "split_data[\"train\"] = np.concatenate([split_data[\"train\"],additional_sample_ids])"
   ]
  },
  {
   "cell_type": "code",
   "execution_count": 33,
   "id": "62276efa-ff1b-4d9e-bca3-cc2413024cbc",
   "metadata": {},
   "outputs": [
    {
     "data": {
      "text/plain": [
       "(3456, 835, 1044)"
      ]
     },
     "execution_count": 33,
     "metadata": {},
     "output_type": "execute_result"
    }
   ],
   "source": [
    "len(split_data[\"train\"]), len(split_data[\"val\"]), len(split_data[\"test\"])"
   ]
  },
  {
   "cell_type": "code",
   "execution_count": 35,
   "id": "9c4b0b9c-0a6f-4b3d-991a-7a7e58dd2166",
   "metadata": {},
   "outputs": [],
   "source": [
    "out_path = \"../data/split_confidence5_balanced_train_augmented\"\n",
    "with open(out_path, 'wb') as handle:\n",
    "    pickle.dump(split_data, handle, protocol=pickle.HIGHEST_PROTOCOL)"
   ]
  },
  {
   "cell_type": "code",
   "execution_count": null,
   "id": "c5409503-f4cc-4f23-b41b-2b8dbcc72abd",
   "metadata": {},
   "outputs": [],
   "source": []
  }
 ],
 "metadata": {
  "kernelspec": {
   "display_name": "Python [conda env:miniconda3-geo-ml]",
   "language": "python",
   "name": "conda-env-miniconda3-geo-ml-py"
  },
  "language_info": {
   "codemirror_mode": {
    "name": "ipython",
    "version": 3
   },
   "file_extension": ".py",
   "mimetype": "text/x-python",
   "name": "python",
   "nbconvert_exporter": "python",
   "pygments_lexer": "ipython3",
   "version": "3.11.6"
  }
 },
 "nbformat": 4,
 "nbformat_minor": 5
}
